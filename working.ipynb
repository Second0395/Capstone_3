{
 "cells": [
  {
   "cell_type": "code",
   "execution_count": 1,
   "metadata": {},
   "outputs": [],
   "source": [
    "import pandas as pd\n",
    "import numpy as np\n",
    "import matplotlib.pyplot as plt\n",
    "\n",
    "import string\n",
    "\n",
    "import matplotlib\n",
    "import nltk\n",
    "import numpy as np\n",
    "import pandas as pd\n",
    "import seaborn as sns\n",
    "from matplotlib import pyplot as plt\n",
    "from nltk.corpus import stopwords\n",
    "from pymongo import MongoClient\n",
    "from selenium import webdriver\n",
    "from selenium.webdriver.chrome.options import Options\n",
    "from sklearn.ensemble import RandomForestClassifier\n",
    "from sklearn.feature_extraction.text import CountVectorizer, TfidfVectorizer\n",
    "from sklearn.linear_model import LogisticRegression, SGDClassifier\n",
    "from sklearn.metrics import (\n",
    "    accuracy_score,\n",
    "    confusion_matrix,\n",
    "    plot_roc_curve,\n",
    "    precision_score,\n",
    "    recall_score,\n",
    ")\n",
    "from sklearn.model_selection import cross_validate, train_test_split\n",
    "from sklearn.naive_bayes import MultinomialNB\n",
    "from sklearn.neighbors import KNeighborsClassifier\n",
    "import seaborn as sns\n",
    "sns.set_theme()"
   ]
  },
  {
   "cell_type": "code",
   "execution_count": 2,
   "metadata": {},
   "outputs": [],
   "source": [
    "#data = pd.read_json('Movies_and_TV_5.json', lines=True)"
   ]
  },
  {
   "cell_type": "code",
   "execution_count": null,
   "metadata": {},
   "outputs": [],
   "source": []
  },
  {
   "cell_type": "code",
   "execution_count": 3,
   "metadata": {},
   "outputs": [],
   "source": [
    "\n",
    "from pymongo import MongoClient\n",
    "\n",
    "client = MongoClient('localhost', 27017)\n",
    "db = client['amazon_reviews']\n",
    "reviews = db['reviews']\n",
    "reviews_cleaned = db['reviews_cleaned']"
   ]
  },
  {
   "cell_type": "code",
   "execution_count": 16,
   "metadata": {},
   "outputs": [],
   "source": [
    "#for row_num in range(data.shape[0]):\n",
    "#    row = (data.iloc[row_num])\n",
    "#    reviews.insert_one({'reviewerID': str(row['reviewerID']), 'asin':str(row['asin']), 'reviewerName':row['reviewerName'], 'reviewText': row['reviewText'], 'helpful':row['helpful'], 'overall':str(row['overall']), 'summary':row['summary'], 'unixReviewTime':str(row['unixReviewTime']), 'reviewTime':row['reviewTime']})"
   ]
  },
  {
   "cell_type": "code",
   "execution_count": 4,
   "metadata": {},
   "outputs": [],
   "source": [
    "original_df = pd.DataFrame(reviews_cleaned.find({}, {'stemmed':0}))"
   ]
  },
  {
   "cell_type": "code",
   "execution_count": 5,
   "metadata": {},
   "outputs": [],
   "source": [
    "df = original_df"
   ]
  },
  {
   "cell_type": "code",
   "execution_count": 6,
   "metadata": {},
   "outputs": [],
   "source": [
    "df['review_char_length'] = df['reviewText'].apply(len)\n",
    "df['stars'] = df['overall'].apply(lambda x: int(x))\n",
    "df = df[(df['review_char_length']>500) & (df['review_char_length'] < 3000)]"
   ]
  },
  {
   "cell_type": "code",
   "execution_count": 50,
   "metadata": {},
   "outputs": [
    {
     "data": {
      "text/plain": [
       "Amazon Customer                          3508\n",
       "Michael Butts                            2156\n",
       "Tsuyoshi                                 2121\n",
       "Grady Harp                               1911\n",
       "Hiram Gomez Pardo                        1887\n",
       "                                         ... \n",
       "Evigan \"d-(O.o)-b\"                          1\n",
       "Jonquil                                     1\n",
       "Gregory L Leber                             1\n",
       "Scottiboy \"I've seen a movie or two\"        1\n",
       "Amazon Customer \"Baghdad Cinemaphile\"       1\n",
       "Name: reviewerName, Length: 67273, dtype: int64"
      ]
     },
     "execution_count": 50,
     "metadata": {},
     "output_type": "execute_result"
    }
   ],
   "source": [
    "#df['reviewerName'].value_counts()"
   ]
  },
  {
   "cell_type": "code",
   "execution_count": 7,
   "metadata": {},
   "outputs": [],
   "source": [
    "one_star_reviews = df[df['stars'] == 1]\n",
    "two_star_reviews = df[df['stars'] == 2]\n",
    "three_star_reviews = df[df['stars'] == 3]\n",
    "four_star_reviews =df[df['stars'] == 4]\n",
    "five_star_reviews = df[df['stars'] == 5]"
   ]
  },
  {
   "cell_type": "code",
   "execution_count": 17,
   "metadata": {},
   "outputs": [
    {
     "data": {
      "text/plain": [
       "<BarContainer object of 5 artists>"
      ]
     },
     "execution_count": 17,
     "metadata": {},
     "output_type": "execute_result"
    },
    {
     "data": {
      "image/png": "[encoded data removed]",
      "text/plain": [
       "<Figure size 432x288 with 1 Axes>"
      ]
     },
     "metadata": {},
     "output_type": "display_data"
    }
   ],
   "source": [
    "fig, ax = plt.subplots()\n",
    "ax.bar(df['stars'].value_counts().index,df['overall'].value_counts())"
   ]
  },
  {
   "cell_type": "code",
   "execution_count": 9,
   "metadata": {},
   "outputs": [
    {
     "data": {
      "text/plain": [
       "5    40000\n",
       "4    40000\n",
       "3    40000\n",
       "2    40000\n",
       "1    40000\n",
       "Name: stars, dtype: int64"
      ]
     },
     "execution_count": 9,
     "metadata": {},
     "output_type": "execute_result"
    }
   ],
   "source": [
    "balanced_10k_each = pd.concat([one_star_reviews.iloc[:10000], two_star_reviews.iloc[:10000], three_star_reviews.iloc[:10000], four_star_reviews.iloc[:10000], five_star_reviews.iloc[:10000]])\n",
    "balanced_40k_each = pd.concat([one_star_reviews.iloc[:40000], two_star_reviews.iloc[:40000], three_star_reviews.iloc[:40000], four_star_reviews.iloc[:40000], five_star_reviews.iloc[:40000]])\n",
    "balanced_40k_each['stars'].value_counts()"
   ]
  },
  {
   "cell_type": "code",
   "execution_count": 11,
   "metadata": {},
   "outputs": [],
   "source": [
    "import nltk\n",
    "nltk_stopwords = nltk.corpus.stopwords.words('english')\n",
    "tokenizer = nltk.RegexpTokenizer(r\"\\w+\")\n",
    "\n",
    "stemmer = nltk.stem.PorterStemmer()\n",
    "lemmatizer = nltk.stem.WordNetLemmatizer()\n",
    "\n",
    "def NLP_cleaner_mongodb(pandas_df, collection, document_column_name = 'reviewText'):\n",
    "    '''\n",
    "    takes pandas dataframe and inserts entries into mongodb collection with lemmatized text\n",
    "    '''\n",
    "    '''\n",
    "    df = pandas_df\n",
    "    df['unicode'] = df[document_column_name].str.encode('ascii', 'ignore').str.decode('ascii')\n",
    "    df['lower'] = df['unicode'].apply(lambda x: x.lower())\n",
    "    df['remove_punct'] = df['lower'].apply(lambda x: tokenizer.tokenize(x))\n",
    "    df['no_stopwords'] = df['remove_punct'].apply(lambda x: remove_stopwords(x))\n",
    "    df['lemmatized'] = df['no_stopwords'].apply(lambda x: lemmatize_text(tokenize(x)))\n",
    "    '''\n",
    "    for row_num in range(pandas_df.shape[0]):\n",
    "        row = (pandas_df.iloc[row_num])\n",
    "        unicode = row[document_column_name].encode('ascii', 'ignore').decode('ascii')\n",
    "        lower = unicode.lower()\n",
    "        remove_punct = tokenize(lower)\n",
    "        no_stopwords = remove_stopwords(remove_punct)\n",
    "        lemmatized = lemmatize_text(tokenize(no_stopwords))\n",
    "        stemmed = stem_text(tokenize(no_stopwords))\n",
    "        collection.insert_one({'reviewerID': str(row['reviewerID']), 'asin':str(row['asin']), 'reviewerName':row['reviewerName'], 'reviewText': row['reviewText'], 'helpful':row['helpful'], 'overall':str(row['overall']), 'summary':row['summary'], 'unixReviewTime':str(row['unixReviewTime']), 'reviewTime':row['reviewTime'], 'lemmatized':lemmatized, 'stemmed':stemmed})\n",
    "    \n",
    "    \n",
    "    \n"
   ]
  },
  {
   "cell_type": "code",
   "execution_count": 115,
   "metadata": {},
   "outputs": [],
   "source": [
    "#NLP_cleaner_mongodb(df, reviews_cleaned)"
   ]
  },
  {
   "cell_type": "code",
   "execution_count": 12,
   "metadata": {},
   "outputs": [],
   "source": [
    "\n",
    "\n",
    "def remove_punctuation(comment):\n",
    "    no_punct = [word for word in comment if word not in string.punctuation]\n",
    "    return ' '.join(no_punct)\n",
    "\n",
    "def tokenize(comment):\n",
    "    token = [word.lower() for word in tokenizer.tokenize(comment)]\n",
    "    return token\n",
    "\n",
    "def remove_stopwords(comment):\n",
    "    no_stops_words = [word for word in comment if word not in nltk_stopwords]\n",
    "    return ' '.join(no_stops_words)\n",
    "\n",
    "def stem_text(comment):\n",
    "    stem = [stemmer.stem(word) for word in comment]\n",
    "    after_stem = ' '.join(stem)\n",
    "    return after_stem\n",
    "\n",
    "def lemmatize_text(comment):\n",
    "    lemma = [lemmatizer.lemmatize(word) for word in comment]\n",
    "    after_lemma = ' '.join(lemma)\n",
    "    return after_lemma\n"
   ]
  },
  {
   "cell_type": "code",
   "execution_count": 22,
   "metadata": {},
   "outputs": [
    {
     "data": {
      "text/plain": [
       "((0.50855,\n",
       "  array([0.54003813, 0.44029076, 0.42734194, 0.46121372, 0.63624145]),\n",
       "  array([0.68908892, 0.42079147, 0.32559899, 0.44376745, 0.65828066])),\n",
       " array([[5665, 1741,  382,  239,  194],\n",
       "        [2573, 3392, 1302,  552,  242],\n",
       "        [1075, 1702, 2582, 1862,  709],\n",
       "        [ 608,  584, 1358, 3496, 1832],\n",
       "        [ 569,  285,  418, 1431, 5207]]),\n",
       " MultinomialNB())"
      ]
     },
     "execution_count": 22,
     "metadata": {},
     "output_type": "execute_result"
    }
   ],
   "source": [
    "multiNB(balanced_40k_each, 'lemmatized', max_features=20000,max_iter=10000)"
   ]
  },
  {
   "cell_type": "code",
   "execution_count": 37,
   "metadata": {},
   "outputs": [
    {
     "data": {
      "text/plain": [
       "<AxesSubplot:>"
      ]
     },
     "execution_count": 37,
     "metadata": {},
     "output_type": "execute_result"
    },
    {
     "data": {
      "image/png": "[encoded data removed]",
      "text/plain": [
       "<Figure size 432x288 with 2 Axes>"
      ]
     },
     "metadata": {},
     "output_type": "display_data"
    }
   ],
   "source": [
    "sns.heatmap([[5534, 1740,  413,  222,  312],\n",
    "        [2478, 3368, 1244,  622,  349],\n",
    "        [1092, 1725, 2447, 1887,  779],\n",
    "        [ 666,  716, 1339, 3249, 1908],\n",
    "        [ 683,  329,  407, 1505, 4986]], annot=True, fmt='g')"
   ]
  },
  {
   "cell_type": "code",
   "execution_count": 45,
   "metadata": {
    "scrolled": false
   },
   "outputs": [
    {
     "name": "stdout",
     "output_type": "stream",
     "text": [
      "(40000, 10000)\n"
     ]
    },
    {
     "data": {
      "text/plain": [
       "((0.4517, 0.4517, 0.4517),\n",
       " array([[1451,  239,   86,   83,  152],\n",
       "        [ 752,  489,  328,  208,  227],\n",
       "        [ 336,  280,  516,  453,  383],\n",
       "        [ 181,  113,  293,  654,  723],\n",
       "        [ 155,   46,  116,  329, 1407]]),\n",
       " RandomForestClassifier(class_weight='balanced_subsample', max_depth=15,\n",
       "                        n_estimators=400),\n",
       " <40000x10000 sparse matrix of type '<class 'numpy.float64'>'\n",
       " \twith 3371522 stored elements in Compressed Sparse Row format>)"
      ]
     },
     "execution_count": 45,
     "metadata": {},
     "output_type": "execute_result"
    }
   ],
   "source": [
    "tup = rf_test(balanced_10k_each, 'lemmatized', max_depth=15, n_est=400, max_feat = 10000, new_stop_words = ['one', 'two', 'three', 'four', 'five'])\n",
    "tup"
   ]
  },
  {
   "cell_type": "code",
   "execution_count": 52,
   "metadata": {},
   "outputs": [
    {
     "ename": "AttributeError",
     "evalue": "get_feature_names not found",
     "output_type": "error",
     "traceback": [
      "\u001b[0;31m---------------------------------------------------------------------------\u001b[0m",
      "\u001b[0;31mAttributeError\u001b[0m                            Traceback (most recent call last)",
      "\u001b[0;32m<ipython-input-52-b5c3124b47b0>\u001b[0m in \u001b[0;36m<module>\u001b[0;34m\u001b[0m\n\u001b[0;32m----> 1\u001b[0;31m \u001b[0mtdif_most_important_values_for_random_forest\u001b[0m\u001b[0;34m(\u001b[0m\u001b[0mtup\u001b[0m\u001b[0;34m[\u001b[0m\u001b[0;36m3\u001b[0m\u001b[0;34m]\u001b[0m\u001b[0;34m,\u001b[0m \u001b[0mtup\u001b[0m\u001b[0;34m[\u001b[0m\u001b[0;36m2\u001b[0m\u001b[0;34m]\u001b[0m\u001b[0;34m)\u001b[0m\u001b[0;34m\u001b[0m\u001b[0;34m\u001b[0m\u001b[0m\n\u001b[0m",
      "\u001b[0;32m<ipython-input-12-ce30a6ceeebc>\u001b[0m in \u001b[0;36mtdif_most_important_values_for_random_forest\u001b[0;34m(tdif_vectorizer, fit_random_forest)\u001b[0m\n\u001b[1;32m      2\u001b[0m     \u001b[0md\u001b[0m\u001b[0;34m=\u001b[0m \u001b[0;34m{\u001b[0m\u001b[0;34m}\u001b[0m\u001b[0;34m\u001b[0m\u001b[0;34m\u001b[0m\u001b[0m\n\u001b[1;32m      3\u001b[0m     \u001b[0mrf\u001b[0m \u001b[0;34m=\u001b[0m \u001b[0mfit_random_forest\u001b[0m\u001b[0;34m\u001b[0m\u001b[0;34m\u001b[0m\u001b[0m\n\u001b[0;32m----> 4\u001b[0;31m     \u001b[0;32mfor\u001b[0m \u001b[0mimp\u001b[0m\u001b[0;34m,\u001b[0m\u001b[0mword\u001b[0m \u001b[0;32min\u001b[0m \u001b[0mzip\u001b[0m\u001b[0;34m(\u001b[0m\u001b[0mlist\u001b[0m\u001b[0;34m(\u001b[0m\u001b[0mrf\u001b[0m\u001b[0;34m.\u001b[0m\u001b[0mfeature_importances_\u001b[0m\u001b[0;34m)\u001b[0m\u001b[0;34m,\u001b[0m\u001b[0mtdif_vectorizer\u001b[0m\u001b[0;34m.\u001b[0m\u001b[0mget_feature_names\u001b[0m\u001b[0;34m(\u001b[0m\u001b[0;34m)\u001b[0m\u001b[0;34m)\u001b[0m\u001b[0;34m:\u001b[0m\u001b[0;34m\u001b[0m\u001b[0;34m\u001b[0m\u001b[0m\n\u001b[0m\u001b[1;32m      5\u001b[0m         \u001b[0md\u001b[0m\u001b[0;34m[\u001b[0m\u001b[0mword\u001b[0m\u001b[0;34m]\u001b[0m \u001b[0;34m=\u001b[0m \u001b[0mimp\u001b[0m\u001b[0;34m\u001b[0m\u001b[0;34m\u001b[0m\u001b[0m\n\u001b[1;32m      6\u001b[0m     \u001b[0msorted_values\u001b[0m \u001b[0;34m=\u001b[0m \u001b[0mlist\u001b[0m\u001b[0;34m(\u001b[0m\u001b[0mreversed\u001b[0m\u001b[0;34m(\u001b[0m\u001b[0msorted\u001b[0m\u001b[0;34m(\u001b[0m\u001b[0md\u001b[0m\u001b[0;34m.\u001b[0m\u001b[0mvalues\u001b[0m\u001b[0;34m(\u001b[0m\u001b[0;34m)\u001b[0m\u001b[0;34m)\u001b[0m\u001b[0;34m)\u001b[0m\u001b[0;34m)\u001b[0m \u001b[0;31m# Sort the values\u001b[0m\u001b[0;34m\u001b[0m\u001b[0;34m\u001b[0m\u001b[0m\n",
      "\u001b[0;32m~/anaconda3/lib/python3.7/site-packages/scipy/sparse/base.py\u001b[0m in \u001b[0;36m__getattr__\u001b[0;34m(self, attr)\u001b[0m\n\u001b[1;32m    685\u001b[0m             \u001b[0;32mreturn\u001b[0m \u001b[0mself\u001b[0m\u001b[0;34m.\u001b[0m\u001b[0mgetnnz\u001b[0m\u001b[0;34m(\u001b[0m\u001b[0;34m)\u001b[0m\u001b[0;34m\u001b[0m\u001b[0;34m\u001b[0m\u001b[0m\n\u001b[1;32m    686\u001b[0m         \u001b[0;32melse\u001b[0m\u001b[0;34m:\u001b[0m\u001b[0;34m\u001b[0m\u001b[0;34m\u001b[0m\u001b[0m\n\u001b[0;32m--> 687\u001b[0;31m             \u001b[0;32mraise\u001b[0m \u001b[0mAttributeError\u001b[0m\u001b[0;34m(\u001b[0m\u001b[0mattr\u001b[0m \u001b[0;34m+\u001b[0m \u001b[0;34m\" not found\"\u001b[0m\u001b[0;34m)\u001b[0m\u001b[0;34m\u001b[0m\u001b[0;34m\u001b[0m\u001b[0m\n\u001b[0m\u001b[1;32m    688\u001b[0m \u001b[0;34m\u001b[0m\u001b[0m\n\u001b[1;32m    689\u001b[0m     \u001b[0;32mdef\u001b[0m \u001b[0mtranspose\u001b[0m\u001b[0;34m(\u001b[0m\u001b[0mself\u001b[0m\u001b[0;34m,\u001b[0m \u001b[0maxes\u001b[0m\u001b[0;34m=\u001b[0m\u001b[0;32mNone\u001b[0m\u001b[0;34m,\u001b[0m \u001b[0mcopy\u001b[0m\u001b[0;34m=\u001b[0m\u001b[0;32mFalse\u001b[0m\u001b[0;34m)\u001b[0m\u001b[0;34m:\u001b[0m\u001b[0;34m\u001b[0m\u001b[0;34m\u001b[0m\u001b[0m\n",
      "\u001b[0;31mAttributeError\u001b[0m: get_feature_names not found"
     ]
    }
   ],
   "source": [
    "tdif_most_important_values_for_random_forest(tup[3], tup[2])"
   ]
  },
  {
   "cell_type": "code",
   "execution_count": 28,
   "metadata": {},
   "outputs": [
    {
     "data": {
      "text/plain": [
       "<AxesSubplot:>"
      ]
     },
     "execution_count": 28,
     "metadata": {},
     "output_type": "execute_result"
    },
    {
     "data": {
      "image/png": "[encoded data removed]",
      "text/plain": [
       "<Figure size 432x288 with 2 Axes>"
      ]
     },
     "metadata": {},
     "output_type": "display_data"
    }
   ],
   "source": [
    "sns.heatmap([[1465,  226,   97,   87,  136],\n",
    "        [ 777,  450,  336,  219,  222],\n",
    "        [ 336,  259,  534,  435,  404],\n",
    "        [ 176,  106,  297,  648,  737],\n",
    "        [ 161,   44,   98,  317, 1433]], annot=True, fmt='g')"
   ]
  },
  {
   "cell_type": "code",
   "execution_count": 17,
   "metadata": {},
   "outputs": [
    {
     "data": {
      "text/plain": [
       "(0.3619,\n",
       " array([[961, 515, 357, 118,  60],\n",
       "        [707, 643, 396, 189,  69],\n",
       "        [418, 486, 658, 309,  97],\n",
       "        [245, 350, 503, 632, 234],\n",
       "        [164, 211, 372, 581, 725]]))"
      ]
     },
     "execution_count": 17,
     "metadata": {},
     "output_type": "execute_result"
    }
   ],
   "source": [
    "knn_classifier(balanced_10k_each, 'lemmatized')"
   ]
  },
  {
   "cell_type": "code",
   "execution_count": 52,
   "metadata": {},
   "outputs": [
    {
     "data": {
      "text/plain": [
       "((0.511,\n",
       "  array([0.60002314, 0.46082266, 0.42833653, 0.44747649, 0.58636614]),\n",
       "  array([0.6515894 , 0.42830283, 0.38851603, 0.42188085, 0.66579276])),\n",
       " array([[5186, 1737,  520,  215,  301],\n",
       "        [2129, 3417, 1537,  527,  368],\n",
       "        [ 691, 1578, 3126, 1808,  843],\n",
       "        [ 291,  455, 1633, 3378, 2250],\n",
       "        [ 346,  228,  482, 1621, 5333]]),\n",
       " LogisticRegression(max_iter=2000))"
      ]
     },
     "execution_count": 52,
     "metadata": {},
     "output_type": "execute_result"
    }
   ],
   "source": [
    "tup =logreg(balanced_40k_each, 'lemmatized')\n",
    "tup"
   ]
  },
  {
   "cell_type": "code",
   "execution_count": 48,
   "metadata": {},
   "outputs": [
    {
     "data": {
      "text/plain": [
       "<AxesSubplot:>"
      ]
     },
     "execution_count": 48,
     "metadata": {},
     "output_type": "execute_result"
    },
    {
     "data": {
      "image/png": "[encoded data removed]",
      "text/plain": [
       "<Figure size 432x288 with 2 Axes>"
      ]
     },
     "metadata": {},
     "output_type": "display_data"
    }
   ],
   "source": [
    "make_heatmap([[5186, 1737,  520,  215,  301],\n",
    "        [2129, 3417, 1537,  527,  368],\n",
    "        [ 691, 1578, 3126, 1808,  843],\n",
    "        [ 291,  455, 1633, 3378, 2250],\n",
    "        [ 346,  228,  482, 1621, 5333]])"
   ]
  },
  {
   "cell_type": "code",
   "execution_count": 7,
   "metadata": {},
   "outputs": [],
   "source": [
    "def multiNB(pandas_df, text_column='reviewText', max_features = 1500, max_iter = 2000):\n",
    "\n",
    "    X = pandas_df[text_column]\n",
    "    y = pandas_df['overall']\n",
    "    X_train, X_test, y_train, y_test = train_test_split(X, y, test_size=0.2, random_state=1)\n",
    "\n",
    "    tvectorizer = CountVectorizer(max_features = max_features, strip_accents='ascii', token_pattern=r'(?u)\\b\\w\\w+\\b',lowercase=True)\n",
    "    X_train_tvectorizer = tvectorizer.fit_transform(X_train)\n",
    "    X_test_tvectorizer = tvectorizer.transform(X_test)\n",
    "\n",
    "\n",
    "    mnb = MultinomialNB()\n",
    "    mnb.fit(X_train_tvectorizer, y_train)\n",
    "    predict = mnb.predict(X_test_tvectorizer)\n",
    "\n",
    "    a = (accuracy_score(y_test, predict))\n",
    "    p = (precision_score(y_test, predict, average=None))\n",
    "    r = (recall_score(y_test, predict, average=None))\n",
    "\n",
    "    cm = confusion_matrix(y_test, predict)\n",
    "    \n",
    "    return (a,p,r), cm, mnb"
   ]
  },
  {
   "cell_type": "code",
   "execution_count": 44,
   "metadata": {},
   "outputs": [],
   "source": [
    "def rf_test(pandas_df, text_column = 'reviewText', n_est=10, max_depth = 40, max_feat=None, new_stop_words = []):\n",
    "\n",
    "    X = pandas_df[text_column]\n",
    "    y = pandas_df['stars']\n",
    "    X_train, X_test, y_train, y_test = train_test_split(X, y, test_size=0.2, random_state=2)\n",
    "    \n",
    "    tvectorizer = TfidfVectorizer(max_features = max_feat, strip_accents='ascii', token_pattern=r'(?u)\\b\\w\\w+\\b', stop_words=stopwords.words('english')+new_stop_words)\n",
    "    X_train_tvectorizer = tvectorizer.fit_transform(X_train)\n",
    "    X_test_tvectorizer = tvectorizer.transform(X_test)\n",
    "    \n",
    "    print(X_train_tvectorizer.shape)\n",
    "    \n",
    "    rf = RandomForestClassifier(n_estimators = n_est, max_depth = max_depth, class_weight='balanced_subsample')\n",
    "    rf.fit(X_train_tvectorizer, y_train)\n",
    "    predict = rf.predict(X_test_tvectorizer)\n",
    "\n",
    "    a = (accuracy_score(y_test, predict))\n",
    "    p = (precision_score(y_test, predict, average='micro'))\n",
    "    r = (recall_score(y_test, predict, average='micro'))\n",
    "\n",
    "    cm = confusion_matrix(y_test, predict)\n",
    "    return (a,p,r), cm, rf, X_train_tvectorizer\n"
   ]
  },
  {
   "cell_type": "code",
   "execution_count": 9,
   "metadata": {},
   "outputs": [],
   "source": [
    "def knn_classifier(pandas_df, text_column = 'reviewText'):\n",
    "    \n",
    "    X = pandas_df[text_column]\n",
    "    y = pandas_df['stars']\n",
    "    X_train, X_test, y_train, y_test = train_test_split(X, y, test_size=0.2, random_state=2)\n",
    "    \n",
    "    tvectorizer = TfidfVectorizer(token_pattern=r'(?u)\\b\\w\\w+\\b', stop_words=stopwords.words('english'))\n",
    "    X_train_tvectorizer = tvectorizer.fit_transform(X_train)\n",
    "    X_test_tvectorizer = tvectorizer.transform(X_test)\n",
    "    \n",
    "    knn = KNeighborsClassifier(n_neighbors = 2).fit(X_train_tvectorizer, y_train)\n",
    "    accuracy = knn.score(X_test_tvectorizer, y_test)\n",
    "    \n",
    "    knn_predictions = knn.predict(X_test_tvectorizer) \n",
    "    cm = confusion_matrix(y_test, knn_predictions)\n",
    "    \n",
    "    return accuracy, cm"
   ]
  },
  {
   "cell_type": "code",
   "execution_count": 10,
   "metadata": {},
   "outputs": [],
   "source": [
    "def logreg(pandas_df, text_column = 'reviewText', max_features=1500, max_iter=2000):\n",
    "\n",
    "    X = pandas_df[text_column]\n",
    "    y = pandas_df['stars']\n",
    "    X_train, X_test, y_train, y_test = train_test_split(X, y, test_size=0.2, random_state=2)\n",
    "    \n",
    "    tvectorizer = TfidfVectorizer(max_features = max_features, strip_accents='ascii', token_pattern=r'(?u)\\b\\w\\w+\\b')\n",
    "    X_train_tvectorizer = tvectorizer.fit_transform(X_train)\n",
    "    X_test_tvectorizer = tvectorizer.transform(X_test)\n",
    "\n",
    "    lr = LogisticRegression(max_iter=max_iter)\n",
    "    lr.fit(X_train_tvectorizer, y_train)\n",
    "    predict = lr.predict(X_test_tvectorizer)\n",
    "\n",
    "    a = (accuracy_score(y_test, predict))\n",
    "    p = (precision_score(y_test, predict, average=None))\n",
    "    r = (recall_score(y_test, predict, average=None))\n",
    "    cm = confusion_matrix(y_test, predict)\n",
    "    return ((a,p,r),cm,lr)"
   ]
  },
  {
   "cell_type": "code",
   "execution_count": 11,
   "metadata": {},
   "outputs": [],
   "source": [
    "def make_heatmap(cm):\n",
    "    categories = ['One', 'Two', 'Three', 'Four', 'Five']\n",
    "    \n",
    "    return sns.heatmap(cm, annot=True, fmt='g', xticklabels = categories, yticklabels = categories)"
   ]
  },
  {
   "cell_type": "code",
   "execution_count": 12,
   "metadata": {},
   "outputs": [],
   "source": [
    "def tdif_most_important_values_for_random_forest(tdif_vectorizer, fit_random_forest):    \n",
    "    d= {}\n",
    "    rf = fit_random_forest\n",
    "    for imp,word in zip(list(rf.feature_importances_),tdif_vectorizer.get_feature_names()):\n",
    "        d[word] = imp\n",
    "    sorted_values = list(reversed(sorted(d.values()))) # Sort the values\n",
    "    sorted_dict = {}\n",
    "    for i in sorted_values:\n",
    "        for k in d.keys():\n",
    "            if d[k] == i:\n",
    "                sorted_dict[k] = d[k]\n",
    "                break\n",
    "    return sorted_dict"
   ]
  },
  {
   "cell_type": "code",
   "execution_count": 75,
   "metadata": {},
   "outputs": [
    {
     "data": {
      "text/plain": [
       "TfidfVectorizer(max_features=1000,\n",
       "                stop_words=['i', 'me', 'my', 'myself', 'we', 'our', 'ours',\n",
       "                            'ourselves', 'you', \"you're\", \"you've\", \"you'll\",\n",
       "                            \"you'd\", 'your', 'yours', 'yourself', 'yourselves',\n",
       "                            'he', 'him', 'his', 'himself', 'she', \"she's\",\n",
       "                            'her', 'hers', 'herself', 'it', \"it's\", 'its',\n",
       "                            'itself', ...],\n",
       "                strip_accents='ascii')"
      ]
     },
     "execution_count": 75,
     "metadata": {},
     "output_type": "execute_result"
    }
   ],
   "source": [
    "#test\n",
    "tup[3]"
   ]
  },
  {
   "cell_type": "code",
   "execution_count": 48,
   "metadata": {},
   "outputs": [],
   "source": [
    "dense_matrix = tup[3].todense()"
   ]
  },
  {
   "cell_type": "code",
   "execution_count": 51,
   "metadata": {},
   "outputs": [
    {
     "data": {
      "text/plain": [
       "(40000, 10000)"
      ]
     },
     "execution_count": 51,
     "metadata": {},
     "output_type": "execute_result"
    }
   ],
   "source": [
    "dense_matrix.shape"
   ]
  },
  {
   "cell_type": "code",
   "execution_count": 10,
   "metadata": {},
   "outputs": [
    {
     "name": "stdout",
     "output_type": "stream",
     "text": [
      "(40000, 10000)\n"
     ]
    },
    {
     "data": {
      "text/plain": [
       "((0.4626, 0.4626, 0.4626),\n",
       " array([[1458,  235,  103,   68,  147],\n",
       "        [ 763,  515,  318,  210,  198],\n",
       "        [ 330,  274,  547,  446,  371],\n",
       "        [ 183,  112,  292,  681,  696],\n",
       "        [ 151,   56,   91,  330, 1425]]),\n",
       " RandomForestClassifier(class_weight='balanced_subsample', max_depth=20,\n",
       "                        n_estimators=400),\n",
       " <40000x10000 sparse matrix of type '<class 'numpy.float64'>'\n",
       " \twith 3371522 stored elements in Compressed Sparse Row format>)"
      ]
     },
     "execution_count": 10,
     "metadata": {},
     "output_type": "execute_result"
    }
   ],
   "source": [
    "pandas_df = balanced_10k_each\n",
    "X = pandas_df['lemmatized']\n",
    "y = pandas_df['stars']\n",
    "X_train, X_test, y_train, y_test = train_test_split(X, y, test_size=0.2, random_state=2)\n",
    "    \n",
    "tvectorizer = TfidfVectorizer(max_features = 10000, strip_accents='ascii', token_pattern=r'(?u)\\b\\w\\w+\\b', stop_words=stopwords.words('english')+['one', 'two', 'three' ,'four', 'five'])\n",
    "X_train_tvectorizer = tvectorizer.fit_transform(X_train)\n",
    "X_test_tvectorizer = tvectorizer.transform(X_test)\n",
    "    \n",
    "print(X_train_tvectorizer.shape)\n",
    "    \n",
    "rf = RandomForestClassifier(n_estimators = 400, max_depth = 20, class_weight='balanced_subsample')\n",
    "rf.fit(X_train_tvectorizer, y_train)\n",
    "predict = rf.predict(X_test_tvectorizer)\n",
    "\n",
    "a = (accuracy_score(y_test, predict))\n",
    "p = (precision_score(y_test, predict, average='micro'))\n",
    "r = (recall_score(y_test, predict, average='micro'))\n",
    "\n",
    "cm = confusion_matrix(y_test, predict)\n",
    "(a,p,r), cm, rf, X_train_tvectorizer\n"
   ]
  },
  {
   "cell_type": "code",
   "execution_count": 11,
   "metadata": {},
   "outputs": [],
   "source": [
    "dense_matrix = X_train_tvectorizer.todense()"
   ]
  },
  {
   "cell_type": "code",
   "execution_count": 15,
   "metadata": {},
   "outputs": [
    {
     "data": {
      "text/plain": [
       "(40000, 10000)"
      ]
     },
     "execution_count": 15,
     "metadata": {},
     "output_type": "execute_result"
    }
   ],
   "source": [
    "dense_matrix.shape"
   ]
  },
  {
   "cell_type": "code",
   "execution_count": 19,
   "metadata": {},
   "outputs": [
    {
     "data": {
      "text/plain": [
       "10000"
      ]
     },
     "execution_count": 19,
     "metadata": {},
     "output_type": "execute_result"
    }
   ],
   "source": [
    "tvectorizer.get_feature_names()"
   ]
  },
  {
   "cell_type": "code",
   "execution_count": 23,
   "metadata": {},
   "outputs": [
    {
     "data": {
      "text/plain": [
       "(40000, 1)"
      ]
     },
     "execution_count": 23,
     "metadata": {},
     "output_type": "execute_result"
    }
   ],
   "source": [
    "np.sum(dense_matrix, axis=1).shape"
   ]
  },
  {
   "cell_type": "code",
   "execution_count": null,
   "metadata": {},
   "outputs": [],
   "source": []
  }
 ],
 "metadata": {
  "kernelspec": {
   "display_name": "Python 3",
   "language": "python",
   "name": "python3"
  },
  "language_info": {
   "codemirror_mode": {
    "name": "ipython",
    "version": 3
   },
   "file_extension": ".py",
   "mimetype": "text/x-python",
   "name": "python",
   "nbconvert_exporter": "python",
   "pygments_lexer": "ipython3",
   "version": "3.7.9"
  }
 },
 "nbformat": 4,
 "nbformat_minor": 4
}
