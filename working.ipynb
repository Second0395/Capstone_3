{
 "cells": [
  {
   "cell_type": "code",
   "execution_count": 1,
   "metadata": {},
   "outputs": [],
   "source": [
    "import pandas as pd\n",
    "import numpy as np\n",
    "import matplotlib.pyplot as plt\n",
    "\n",
    "import string\n",
    "\n",
    "import matplotlib\n",
    "import nltk\n",
    "import numpy as np\n",
    "import pandas as pd\n",
    "import seaborn as sns\n",
    "from matplotlib import pyplot as plt\n",
    "from nltk.corpus import stopwords\n",
    "from pymongo import MongoClient\n",
    "from selenium import webdriver\n",
    "from selenium.webdriver.chrome.options import Options\n",
    "from sklearn.ensemble import RandomForestClassifier\n",
    "from sklearn.feature_extraction.text import CountVectorizer, TfidfVectorizer\n",
    "from sklearn.linear_model import LogisticRegression, SGDClassifier\n",
    "from sklearn.metrics import (\n",
    "    accuracy_score,\n",
    "    confusion_matrix,\n",
    "    plot_roc_curve,\n",
    "    precision_score,\n",
    "    recall_score,\n",
    ")\n",
    "from sklearn.model_selection import cross_validate, train_test_split\n",
    "from sklearn.naive_bayes import MultinomialNB\n",
    "from sklearn.neighbors import KNeighborsClassifier\n",
    "import seaborn as sns\n",
    "sns.set_theme()"
   ]
  },
  {
   "cell_type": "code",
   "execution_count": 2,
   "metadata": {},
   "outputs": [],
   "source": [
    "#data = pd.read_json('Movies_and_TV_5.json', lines=True)"
   ]
  },
  {
   "cell_type": "code",
   "execution_count": null,
   "metadata": {},
   "outputs": [],
   "source": []
  },
  {
   "cell_type": "code",
   "execution_count": 3,
   "metadata": {},
   "outputs": [],
   "source": [
    "\n",
    "from pymongo import MongoClient\n",
    "\n",
    "client = MongoClient('localhost', 27017)\n",
    "db = client['amazon_reviews']\n",
    "reviews = db['reviews']\n",
    "reviews_cleaned = db['reviews_cleaned']"
   ]
  },
  {
   "cell_type": "code",
   "execution_count": 16,
   "metadata": {},
   "outputs": [],
   "source": [
    "#for row_num in range(data.shape[0]):\n",
    "#    row = (data.iloc[row_num])\n",
    "#    reviews.insert_one({'reviewerID': str(row['reviewerID']), 'asin':str(row['asin']), 'reviewerName':row['reviewerName'], 'reviewText': row['reviewText'], 'helpful':row['helpful'], 'overall':str(row['overall']), 'summary':row['summary'], 'unixReviewTime':str(row['unixReviewTime']), 'reviewTime':row['reviewTime']})"
   ]
  },
  {
   "cell_type": "code",
   "execution_count": 4,
   "metadata": {},
   "outputs": [],
   "source": [
    "original_df = pd.DataFrame(reviews_cleaned.find({}, {'stemmed':0}))"
   ]
  },
  {
   "cell_type": "code",
   "execution_count": 5,
   "metadata": {},
   "outputs": [],
   "source": [
    "df = original_df"
   ]
  },
  {
   "cell_type": "code",
   "execution_count": 6,
   "metadata": {},
   "outputs": [],
   "source": [
    "df['review_char_length'] = df['reviewText'].apply(len)\n",
    "df['stars'] = df['overall'].apply(lambda x: int(x))\n",
    "df = df[(df['review_char_length']>500) & (df['review_char_length'] < 3000)]"
   ]
  },
  {
   "cell_type": "code",
   "execution_count": 7,
   "metadata": {},
   "outputs": [
    {
     "data": {
      "text/html": [
       "<div>\n",
       "<style scoped>\n",
       "    .dataframe tbody tr th:only-of-type {\n",
       "        vertical-align: middle;\n",
       "    }\n",
       "\n",
       "    .dataframe tbody tr th {\n",
       "        vertical-align: top;\n",
       "    }\n",
       "\n",
       "    .dataframe thead th {\n",
       "        text-align: right;\n",
       "    }\n",
       "</style>\n",
       "<table border=\"1\" class=\"dataframe\">\n",
       "  <thead>\n",
       "    <tr style=\"text-align: right;\">\n",
       "      <th></th>\n",
       "      <th>_id</th>\n",
       "      <th>reviewerID</th>\n",
       "      <th>asin</th>\n",
       "      <th>reviewerName</th>\n",
       "      <th>reviewText</th>\n",
       "      <th>helpful</th>\n",
       "      <th>overall</th>\n",
       "      <th>summary</th>\n",
       "      <th>unixReviewTime</th>\n",
       "      <th>reviewTime</th>\n",
       "      <th>lemmatized</th>\n",
       "      <th>review_char_length</th>\n",
       "      <th>stars</th>\n",
       "    </tr>\n",
       "  </thead>\n",
       "  <tbody>\n",
       "    <tr>\n",
       "      <th>6</th>\n",
       "      <td>607dba47dc472093f35639ff</td>\n",
       "      <td>A5NYUBEKXFLX5</td>\n",
       "      <td>0005019281</td>\n",
       "      <td>B. Babb \"kites0852\"</td>\n",
       "      <td>This is the American adaptation of the Charles...</td>\n",
       "      <td>[1, 1]</td>\n",
       "      <td>5</td>\n",
       "      <td>A MUST-HAVE FOR ANY VIDEO CHRISTMAS COLLECTION!!</td>\n",
       "      <td>1230595200</td>\n",
       "      <td>12 30, 2008</td>\n",
       "      <td>american adaptation charles dickens classic in...</td>\n",
       "      <td>760</td>\n",
       "      <td>5</td>\n",
       "    </tr>\n",
       "    <tr>\n",
       "      <th>13</th>\n",
       "      <td>607dba47dc472093f3563a06</td>\n",
       "      <td>A1GHUN5HXMHZ89</td>\n",
       "      <td>0005019281</td>\n",
       "      <td>C. A. Luster \"The Rook\"</td>\n",
       "      <td>The first time I saw &amp;#34;An American Christma...</td>\n",
       "      <td>[0, 0]</td>\n",
       "      <td>5</td>\n",
       "      <td>An American Christmas Carol</td>\n",
       "      <td>1387670400</td>\n",
       "      <td>12 22, 2013</td>\n",
       "      <td>first time saw 34 american christmas carol 34 ...</td>\n",
       "      <td>601</td>\n",
       "      <td>5</td>\n",
       "    </tr>\n",
       "    <tr>\n",
       "      <th>22</th>\n",
       "      <td>607dba47dc472093f3563a0f</td>\n",
       "      <td>A1PXS5N63PS6WR</td>\n",
       "      <td>0005019281</td>\n",
       "      <td>Dan Willis \"Author\"</td>\n",
       "      <td>I must confess to being a bit of a coinsure of...</td>\n",
       "      <td>[2, 3]</td>\n",
       "      <td>5</td>\n",
       "      <td>Change can be good</td>\n",
       "      <td>1008115200</td>\n",
       "      <td>12 12, 2001</td>\n",
       "      <td>must confess bit coinsure dickens classic tale...</td>\n",
       "      <td>1070</td>\n",
       "      <td>5</td>\n",
       "    </tr>\n",
       "    <tr>\n",
       "      <th>32</th>\n",
       "      <td>607dba47dc472093f3563a19</td>\n",
       "      <td>A10O6QLKFO3R6R</td>\n",
       "      <td>0005019281</td>\n",
       "      <td>easyreader50</td>\n",
       "      <td>Most of us remember Henry Winkler in the role ...</td>\n",
       "      <td>[0, 0]</td>\n",
       "      <td>5</td>\n",
       "      <td>Another side of Henry</td>\n",
       "      <td>1300752000</td>\n",
       "      <td>03 22, 2011</td>\n",
       "      <td>u remember henry winkler role arthur fonz fonz...</td>\n",
       "      <td>606</td>\n",
       "      <td>5</td>\n",
       "    </tr>\n",
       "    <tr>\n",
       "      <th>34</th>\n",
       "      <td>607dba47dc472093f3563a1b</td>\n",
       "      <td>AZB4CQ9JZSUQB</td>\n",
       "      <td>0005019281</td>\n",
       "      <td>Eric Pregosin</td>\n",
       "      <td>When this first aired in 1979, I enjoyed it so...</td>\n",
       "      <td>[3, 4]</td>\n",
       "      <td>5</td>\n",
       "      <td>A Christmas Carol to be remembered</td>\n",
       "      <td>1012176000</td>\n",
       "      <td>01 28, 2002</td>\n",
       "      <td>first aired 1979 enjoyed much clean forgot quo...</td>\n",
       "      <td>749</td>\n",
       "      <td>5</td>\n",
       "    </tr>\n",
       "    <tr>\n",
       "      <th>...</th>\n",
       "      <td>...</td>\n",
       "      <td>...</td>\n",
       "      <td>...</td>\n",
       "      <td>...</td>\n",
       "      <td>...</td>\n",
       "      <td>...</td>\n",
       "      <td>...</td>\n",
       "      <td>...</td>\n",
       "      <td>...</td>\n",
       "      <td>...</td>\n",
       "      <td>...</td>\n",
       "      <td>...</td>\n",
       "      <td>...</td>\n",
       "    </tr>\n",
       "    <tr>\n",
       "      <th>1697521</th>\n",
       "      <td>607dd28edc472093f37020ea</td>\n",
       "      <td>A1Q3GEO516I4VK</td>\n",
       "      <td>B00LH9ROKM</td>\n",
       "      <td>Twisted Slasher</td>\n",
       "      <td>While not nearly as terrifying as say, The Con...</td>\n",
       "      <td>[0, 0]</td>\n",
       "      <td>4</td>\n",
       "      <td>Intense and compelling, with a dose of silly o...</td>\n",
       "      <td>1404518400</td>\n",
       "      <td>07 5, 2014</td>\n",
       "      <td>nearly terrifying say conjuring deliver u evil...</td>\n",
       "      <td>1342</td>\n",
       "      <td>4</td>\n",
       "    </tr>\n",
       "    <tr>\n",
       "      <th>1697522</th>\n",
       "      <td>607dd28edc472093f37020eb</td>\n",
       "      <td>AU73NIGESSIRE</td>\n",
       "      <td>B00LT1JHLW</td>\n",
       "      <td>Alan \"Rockin' America's Dairyland\"</td>\n",
       "      <td>Let's be clear - the 5 stars are for the serie...</td>\n",
       "      <td>[25, 88]</td>\n",
       "      <td>5</td>\n",
       "      <td>July 17, 2014 - the first day of pre-order (wi...</td>\n",
       "      <td>1405555200</td>\n",
       "      <td>07 17, 2014</td>\n",
       "      <td>let clear 5 star series product review july 17...</td>\n",
       "      <td>2214</td>\n",
       "      <td>5</td>\n",
       "    </tr>\n",
       "    <tr>\n",
       "      <th>1697529</th>\n",
       "      <td>607dd28edc472093f37020f2</td>\n",
       "      <td>A17W587EH23J0Q</td>\n",
       "      <td>B00LT1JHLW</td>\n",
       "      <td>Ron2900 \"Ron\"</td>\n",
       "      <td>Finally, the holy grail of tv-on-dvd boxsets i...</td>\n",
       "      <td>[32, 48]</td>\n",
       "      <td>5</td>\n",
       "      <td>HOLY BAT-BOXSET, BATMAN... I never thought thi...</td>\n",
       "      <td>1405641600</td>\n",
       "      <td>07 18, 2014</td>\n",
       "      <td>finally holy grail tv dvd boxsets coming blu r...</td>\n",
       "      <td>769</td>\n",
       "      <td>5</td>\n",
       "    </tr>\n",
       "    <tr>\n",
       "      <th>1697530</th>\n",
       "      <td>607dd28edc472093f37020f3</td>\n",
       "      <td>A3DE438TF1A958</td>\n",
       "      <td>B00LT1JHLW</td>\n",
       "      <td>thomas henry</td>\n",
       "      <td>Could this be a true or I'm i dreaming batman ...</td>\n",
       "      <td>[3, 10]</td>\n",
       "      <td>5</td>\n",
       "      <td>prayers have been answered because batman 60s ...</td>\n",
       "      <td>1405728000</td>\n",
       "      <td>07 19, 2014</td>\n",
       "      <td>could true dreaming batman favorite comic book...</td>\n",
       "      <td>538</td>\n",
       "      <td>5</td>\n",
       "    </tr>\n",
       "    <tr>\n",
       "      <th>1697532</th>\n",
       "      <td>607dd28edc472093f37020f5</td>\n",
       "      <td>A3ROPC55BE2OM9</td>\n",
       "      <td>B00LT1JHLW</td>\n",
       "      <td>WingLT</td>\n",
       "      <td>People seriously need to wake up and realize t...</td>\n",
       "      <td>[11, 23]</td>\n",
       "      <td>5</td>\n",
       "      <td>The Price is Insane? People Really Need to Wak...</td>\n",
       "      <td>1405728000</td>\n",
       "      <td>07 19, 2014</td>\n",
       "      <td>people seriously need wake realize get blu ray...</td>\n",
       "      <td>1642</td>\n",
       "      <td>5</td>\n",
       "    </tr>\n",
       "  </tbody>\n",
       "</table>\n",
       "<p>729912 rows × 13 columns</p>\n",
       "</div>"
      ],
      "text/plain": [
       "                              _id      reviewerID        asin  \\\n",
       "6        607dba47dc472093f35639ff   A5NYUBEKXFLX5  0005019281   \n",
       "13       607dba47dc472093f3563a06  A1GHUN5HXMHZ89  0005019281   \n",
       "22       607dba47dc472093f3563a0f  A1PXS5N63PS6WR  0005019281   \n",
       "32       607dba47dc472093f3563a19  A10O6QLKFO3R6R  0005019281   \n",
       "34       607dba47dc472093f3563a1b   AZB4CQ9JZSUQB  0005019281   \n",
       "...                           ...             ...         ...   \n",
       "1697521  607dd28edc472093f37020ea  A1Q3GEO516I4VK  B00LH9ROKM   \n",
       "1697522  607dd28edc472093f37020eb   AU73NIGESSIRE  B00LT1JHLW   \n",
       "1697529  607dd28edc472093f37020f2  A17W587EH23J0Q  B00LT1JHLW   \n",
       "1697530  607dd28edc472093f37020f3  A3DE438TF1A958  B00LT1JHLW   \n",
       "1697532  607dd28edc472093f37020f5  A3ROPC55BE2OM9  B00LT1JHLW   \n",
       "\n",
       "                               reviewerName  \\\n",
       "6                       B. Babb \"kites0852\"   \n",
       "13                  C. A. Luster \"The Rook\"   \n",
       "22                      Dan Willis \"Author\"   \n",
       "32                             easyreader50   \n",
       "34                            Eric Pregosin   \n",
       "...                                     ...   \n",
       "1697521                     Twisted Slasher   \n",
       "1697522  Alan \"Rockin' America's Dairyland\"   \n",
       "1697529                       Ron2900 \"Ron\"   \n",
       "1697530                        thomas henry   \n",
       "1697532                              WingLT   \n",
       "\n",
       "                                                reviewText   helpful overall  \\\n",
       "6        This is the American adaptation of the Charles...    [1, 1]       5   \n",
       "13       The first time I saw &#34;An American Christma...    [0, 0]       5   \n",
       "22       I must confess to being a bit of a coinsure of...    [2, 3]       5   \n",
       "32       Most of us remember Henry Winkler in the role ...    [0, 0]       5   \n",
       "34       When this first aired in 1979, I enjoyed it so...    [3, 4]       5   \n",
       "...                                                    ...       ...     ...   \n",
       "1697521  While not nearly as terrifying as say, The Con...    [0, 0]       4   \n",
       "1697522  Let's be clear - the 5 stars are for the serie...  [25, 88]       5   \n",
       "1697529  Finally, the holy grail of tv-on-dvd boxsets i...  [32, 48]       5   \n",
       "1697530  Could this be a true or I'm i dreaming batman ...   [3, 10]       5   \n",
       "1697532  People seriously need to wake up and realize t...  [11, 23]       5   \n",
       "\n",
       "                                                   summary unixReviewTime  \\\n",
       "6         A MUST-HAVE FOR ANY VIDEO CHRISTMAS COLLECTION!!     1230595200   \n",
       "13                             An American Christmas Carol     1387670400   \n",
       "22                                      Change can be good     1008115200   \n",
       "32                                   Another side of Henry     1300752000   \n",
       "34                      A Christmas Carol to be remembered     1012176000   \n",
       "...                                                    ...            ...   \n",
       "1697521  Intense and compelling, with a dose of silly o...     1404518400   \n",
       "1697522  July 17, 2014 - the first day of pre-order (wi...     1405555200   \n",
       "1697529  HOLY BAT-BOXSET, BATMAN... I never thought thi...     1405641600   \n",
       "1697530  prayers have been answered because batman 60s ...     1405728000   \n",
       "1697532  The Price is Insane? People Really Need to Wak...     1405728000   \n",
       "\n",
       "          reviewTime                                         lemmatized  \\\n",
       "6        12 30, 2008  american adaptation charles dickens classic in...   \n",
       "13       12 22, 2013  first time saw 34 american christmas carol 34 ...   \n",
       "22       12 12, 2001  must confess bit coinsure dickens classic tale...   \n",
       "32       03 22, 2011  u remember henry winkler role arthur fonz fonz...   \n",
       "34       01 28, 2002  first aired 1979 enjoyed much clean forgot quo...   \n",
       "...              ...                                                ...   \n",
       "1697521   07 5, 2014  nearly terrifying say conjuring deliver u evil...   \n",
       "1697522  07 17, 2014  let clear 5 star series product review july 17...   \n",
       "1697529  07 18, 2014  finally holy grail tv dvd boxsets coming blu r...   \n",
       "1697530  07 19, 2014  could true dreaming batman favorite comic book...   \n",
       "1697532  07 19, 2014  people seriously need wake realize get blu ray...   \n",
       "\n",
       "         review_char_length  stars  \n",
       "6                       760      5  \n",
       "13                      601      5  \n",
       "22                     1070      5  \n",
       "32                      606      5  \n",
       "34                      749      5  \n",
       "...                     ...    ...  \n",
       "1697521                1342      4  \n",
       "1697522                2214      5  \n",
       "1697529                 769      5  \n",
       "1697530                 538      5  \n",
       "1697532                1642      5  \n",
       "\n",
       "[729912 rows x 13 columns]"
      ]
     },
     "execution_count": 7,
     "metadata": {},
     "output_type": "execute_result"
    }
   ],
   "source": [
    "df"
   ]
  },
  {
   "cell_type": "code",
   "execution_count": 7,
   "metadata": {},
   "outputs": [],
   "source": []
  },
  {
   "cell_type": "code",
   "execution_count": 8,
   "metadata": {},
   "outputs": [],
   "source": [
    "one_star_reviews = df[df['stars'] == 1]\n",
    "two_star_reviews = df[df['stars'] == 2]\n",
    "three_star_reviews = df[df['stars'] == 3]\n",
    "four_star_reviews =df[df['stars'] == 4]\n",
    "five_star_reviews = df[df['stars'] == 5]"
   ]
  },
  {
   "cell_type": "code",
   "execution_count": 9,
   "metadata": {},
   "outputs": [
    {
     "data": {
      "text/plain": [
       "<BarContainer object of 5 artists>"
      ]
     },
     "execution_count": 9,
     "metadata": {},
     "output_type": "execute_result"
    },
    {
     "data": {
      "image/png": "[encoded data removed]",
      "text/plain": [
       "<Figure size 432x288 with 1 Axes>"
      ]
     },
     "metadata": {},
     "output_type": "display_data"
    }
   ],
   "source": [
    "fig, ax = plt.subplots()\n",
    "ax.bar(df['stars'].value_counts().index,df['overall'].value_counts())"
   ]
  },
  {
   "cell_type": "code",
   "execution_count": 10,
   "metadata": {},
   "outputs": [
    {
     "data": {
      "text/plain": [
       "5    40000\n",
       "4    40000\n",
       "3    40000\n",
       "2    40000\n",
       "1    40000\n",
       "Name: stars, dtype: int64"
      ]
     },
     "execution_count": 10,
     "metadata": {},
     "output_type": "execute_result"
    }
   ],
   "source": [
    "balanced_10k_each = pd.concat([one_star_reviews.iloc[:10000], two_star_reviews.iloc[:10000], three_star_reviews.iloc[:10000], four_star_reviews.iloc[:10000], five_star_reviews.iloc[:10000]])\n",
    "balanced_40k_each = pd.concat([one_star_reviews.iloc[:40000], two_star_reviews.iloc[:40000], three_star_reviews.iloc[:40000], four_star_reviews.iloc[:40000], five_star_reviews.iloc[:40000]])\n",
    "balanced_40k_each['stars'].value_counts()"
   ]
  },
  {
   "cell_type": "code",
   "execution_count": 11,
   "metadata": {},
   "outputs": [],
   "source": [
    "import nltk\n",
    "nltk_stopwords = nltk.corpus.stopwords.words('english')\n",
    "tokenizer = nltk.RegexpTokenizer(r\"\\w+\")\n",
    "\n",
    "stemmer = nltk.stem.PorterStemmer()\n",
    "lemmatizer = nltk.stem.WordNetLemmatizer()\n",
    "\n",
    "def NLP_cleaner_mongodb(pandas_df, collection, document_column_name = 'reviewText'):\n",
    "    '''\n",
    "    takes pandas dataframe and inserts entries into mongodb collection with lemmatized text\n",
    "    '''\n",
    "    '''\n",
    "    df = pandas_df\n",
    "    df['unicode'] = df[document_column_name].str.encode('ascii', 'ignore').str.decode('ascii')\n",
    "    df['lower'] = df['unicode'].apply(lambda x: x.lower())\n",
    "    df['remove_punct'] = df['lower'].apply(lambda x: tokenizer.tokenize(x))\n",
    "    df['no_stopwords'] = df['remove_punct'].apply(lambda x: remove_stopwords(x))\n",
    "    df['lemmatized'] = df['no_stopwords'].apply(lambda x: lemmatize_text(tokenize(x)))\n",
    "    '''\n",
    "    for row_num in range(pandas_df.shape[0]):\n",
    "        row = (pandas_df.iloc[row_num])\n",
    "        unicode = row[document_column_name].encode('ascii', 'ignore').decode('ascii')\n",
    "        lower = unicode.lower()\n",
    "        remove_punct = tokenize(lower)\n",
    "        no_stopwords = remove_stopwords(remove_punct)\n",
    "        lemmatized = lemmatize_text(tokenize(no_stopwords))\n",
    "        stemmed = stem_text(tokenize(no_stopwords))\n",
    "        collection.insert_one({'reviewerID': str(row['reviewerID']), 'asin':str(row['asin']), 'reviewerName':row['reviewerName'], 'reviewText': row['reviewText'], 'helpful':row['helpful'], 'overall':str(row['overall']), 'summary':row['summary'], 'unixReviewTime':str(row['unixReviewTime']), 'reviewTime':row['reviewTime'], 'lemmatized':lemmatized, 'stemmed':stemmed})\n",
    "    \n",
    "    \n",
    "    \n"
   ]
  },
  {
   "cell_type": "code",
   "execution_count": 115,
   "metadata": {},
   "outputs": [],
   "source": [
    "#NLP_cleaner_mongodb(df, reviews_cleaned)"
   ]
  },
  {
   "cell_type": "code",
   "execution_count": 12,
   "metadata": {},
   "outputs": [],
   "source": [
    "\n",
    "\n",
    "def remove_punctuation(comment):\n",
    "    no_punct = [word for word in comment if word not in string.punctuation]\n",
    "    return ' '.join(no_punct)\n",
    "\n",
    "def tokenize(comment):\n",
    "    token = [word.lower() for word in tokenizer.tokenize(comment)]\n",
    "    return token\n",
    "\n",
    "def remove_stopwords(comment):\n",
    "    no_stops_words = [word for word in comment if word not in nltk_stopwords]\n",
    "    return ' '.join(no_stops_words)\n",
    "\n",
    "def stem_text(comment):\n",
    "    stem = [stemmer.stem(word) for word in comment]\n",
    "    after_stem = ' '.join(stem)\n",
    "    return after_stem\n",
    "\n",
    "def lemmatize_text(comment):\n",
    "    lemma = [lemmatizer.lemmatize(word) for word in comment]\n",
    "    after_lemma = ' '.join(lemma)\n",
    "    return after_lemma\n"
   ]
  },
  {
   "cell_type": "code",
   "execution_count": 57,
   "metadata": {
    "scrolled": true
   },
   "outputs": [
    {
     "name": "stderr",
     "output_type": "stream",
     "text": [
      "/home/steven/anaconda3/lib/python3.7/site-packages/ipykernel_launcher.py:10: SettingWithCopyWarning: \n",
      "A value is trying to be set on a copy of a slice from a DataFrame.\n",
      "Try using .loc[row_indexer,col_indexer] = value instead\n",
      "\n",
      "See the caveats in the documentation: https://pandas.pydata.org/pandas-docs/stable/user_guide/indexing.html#returning-a-view-versus-a-copy\n",
      "  # Remove the CWD from sys.path while we load stuff.\n",
      "/home/steven/anaconda3/lib/python3.7/site-packages/ipykernel_launcher.py:11: SettingWithCopyWarning: \n",
      "A value is trying to be set on a copy of a slice from a DataFrame.\n",
      "Try using .loc[row_indexer,col_indexer] = value instead\n",
      "\n",
      "See the caveats in the documentation: https://pandas.pydata.org/pandas-docs/stable/user_guide/indexing.html#returning-a-view-versus-a-copy\n",
      "  # This is added back by InteractiveShellApp.init_path()\n",
      "/home/steven/anaconda3/lib/python3.7/site-packages/ipykernel_launcher.py:12: SettingWithCopyWarning: \n",
      "A value is trying to be set on a copy of a slice from a DataFrame.\n",
      "Try using .loc[row_indexer,col_indexer] = value instead\n",
      "\n",
      "See the caveats in the documentation: https://pandas.pydata.org/pandas-docs/stable/user_guide/indexing.html#returning-a-view-versus-a-copy\n",
      "  if sys.path[0] == '':\n",
      "/home/steven/anaconda3/lib/python3.7/site-packages/ipykernel_launcher.py:13: SettingWithCopyWarning: \n",
      "A value is trying to be set on a copy of a slice from a DataFrame.\n",
      "Try using .loc[row_indexer,col_indexer] = value instead\n",
      "\n",
      "See the caveats in the documentation: https://pandas.pydata.org/pandas-docs/stable/user_guide/indexing.html#returning-a-view-versus-a-copy\n",
      "  del sys.path[0]\n",
      "/home/steven/anaconda3/lib/python3.7/site-packages/ipykernel_launcher.py:14: SettingWithCopyWarning: \n",
      "A value is trying to be set on a copy of a slice from a DataFrame.\n",
      "Try using .loc[row_indexer,col_indexer] = value instead\n",
      "\n",
      "See the caveats in the documentation: https://pandas.pydata.org/pandas-docs/stable/user_guide/indexing.html#returning-a-view-versus-a-copy\n",
      "  \n"
     ]
    }
   ],
   "source": [
    "df_first_50k = NLP_cleaner(df.loc[:50000, :], 'reviewText')\n",
    "df_first_10k = NLP_cleaner(df.loc[:10000, :], 'reviewText')\n",
    "df_first_5k = NLP_cleaner(df.loc[:5000, :], 'reviewText')\n",
    "df_first_2k = NLP_cleaner(df.loc[:2000, :], 'reviewText')"
   ]
  },
  {
   "cell_type": "code",
   "execution_count": 27,
   "metadata": {},
   "outputs": [
    {
     "data": {
      "text/plain": [
       "((0.495775,\n",
       "  array([0.54268651, 0.43335062, 0.41951859, 0.43628205, 0.60989347]),\n",
       "  array([0.67424887, 0.41458876, 0.32307692, 0.43196243, 0.62970923])),\n",
       " array([[5543, 1770,  376,  273,  259],\n",
       "        [2493, 3342, 1314,  626,  286],\n",
       "        [1008, 1720, 2562, 1906,  734],\n",
       "        [ 590,  585, 1393, 3403, 1907],\n",
       "        [ 580,  295,  462, 1592, 4981]]),\n",
       " MultinomialNB())"
      ]
     },
     "execution_count": 27,
     "metadata": {},
     "output_type": "execute_result"
    }
   ],
   "source": [
    "multiNB(balanced_40k_each, 'lemmatized', max_features=5000,max_iter=10000)"
   ]
  },
  {
   "cell_type": "code",
   "execution_count": 37,
   "metadata": {},
   "outputs": [
    {
     "data": {
      "text/plain": [
       "<AxesSubplot:>"
      ]
     },
     "execution_count": 37,
     "metadata": {},
     "output_type": "execute_result"
    },
    {
     "data": {
      "image/png": "[encoded data removed]",
      "text/plain": [
       "<Figure size 432x288 with 2 Axes>"
      ]
     },
     "metadata": {},
     "output_type": "display_data"
    }
   ],
   "source": [
    "sns.heatmap([[5534, 1740,  413,  222,  312],\n",
    "        [2478, 3368, 1244,  622,  349],\n",
    "        [1092, 1725, 2447, 1887,  779],\n",
    "        [ 666,  716, 1339, 3249, 1908],\n",
    "        [ 683,  329,  407, 1505, 4986]], annot=True, fmt='g')"
   ]
  },
  {
   "cell_type": "code",
   "execution_count": 19,
   "metadata": {
    "scrolled": false
   },
   "outputs": [
    {
     "data": {
      "text/plain": [
       "((0.46095, 0.46095, 0.46095),\n",
       " array([[6187,  923,  210,  259,  380],\n",
       "        [3618, 2212,  865,  693,  590],\n",
       "        [1741, 1303, 1636, 1952, 1414],\n",
       "        [ 876,  437,  844, 2727, 3123],\n",
       "        [ 829,  138,  254, 1113, 5676]]),\n",
       " RandomForestClassifier(class_weight='balanced_subsample', max_depth=15,\n",
       "                        n_estimators=300))"
      ]
     },
     "execution_count": 19,
     "metadata": {},
     "output_type": "execute_result"
    }
   ],
   "source": [
    "rf_test(balanced_40k_each, 'lemmatized', max_depth=15, n_est=300)"
   ]
  },
  {
   "cell_type": "code",
   "execution_count": 20,
   "metadata": {},
   "outputs": [
    {
     "data": {
      "text/plain": [
       "<AxesSubplot:>"
      ]
     },
     "execution_count": 20,
     "metadata": {},
     "output_type": "execute_result"
    },
    {
     "data": {
      "image/png": "[encoded data removed]",
      "text/plain": [
       "<Figure size 432x288 with 2 Axes>"
      ]
     },
     "metadata": {},
     "output_type": "display_data"
    }
   ],
   "source": [
    "sns.heatmap([[6187,  923,  210,  259,  380],\n",
    "        [3618, 2212,  865,  693,  590],\n",
    "        [1741, 1303, 1636, 1952, 1414],\n",
    "        [ 876,  437,  844, 2727, 3123],\n",
    "        [ 829,  138,  254, 1113, 5676]], annot=True, fmt='g')"
   ]
  },
  {
   "cell_type": "code",
   "execution_count": 17,
   "metadata": {},
   "outputs": [
    {
     "data": {
      "text/plain": [
       "(0.3619,\n",
       " array([[961, 515, 357, 118,  60],\n",
       "        [707, 643, 396, 189,  69],\n",
       "        [418, 486, 658, 309,  97],\n",
       "        [245, 350, 503, 632, 234],\n",
       "        [164, 211, 372, 581, 725]]))"
      ]
     },
     "execution_count": 17,
     "metadata": {},
     "output_type": "execute_result"
    }
   ],
   "source": [
    "knn_classifier(balanced_10k_each, 'lemmatized')"
   ]
  },
  {
   "cell_type": "code",
   "execution_count": 34,
   "metadata": {},
   "outputs": [
    {
     "data": {
      "text/plain": [
       "((0.511,\n",
       "  array([0.60002314, 0.46082266, 0.42833653, 0.44747649, 0.58636614]),\n",
       "  array([0.6515894 , 0.42830283, 0.38851603, 0.42188085, 0.66579276])),\n",
       " array([[5186, 1737,  520,  215,  301],\n",
       "        [2129, 3417, 1537,  527,  368],\n",
       "        [ 691, 1578, 3126, 1808,  843],\n",
       "        [ 291,  455, 1633, 3378, 2250],\n",
       "        [ 346,  228,  482, 1621, 5333]]),\n",
       " LogisticRegression(max_iter=2000))"
      ]
     },
     "execution_count": 34,
     "metadata": {},
     "output_type": "execute_result"
    }
   ],
   "source": [
    "logreg(balanced_40k_each, 'lemmatized')"
   ]
  },
  {
   "cell_type": "code",
   "execution_count": 35,
   "metadata": {},
   "outputs": [
    {
     "data": {
      "text/plain": [
       "<AxesSubplot:>"
      ]
     },
     "execution_count": 35,
     "metadata": {},
     "output_type": "execute_result"
    },
    {
     "data": {
      "image/png": "[encoded data removed]",
      "text/plain": [
       "<Figure size 432x288 with 2 Axes>"
      ]
     },
     "metadata": {},
     "output_type": "display_data"
    }
   ],
   "source": [
    "make_heatmap([[5186, 1737,  520,  215,  301],\n",
    "        [2129, 3417, 1537,  527,  368],\n",
    "        [ 691, 1578, 3126, 1808,  843],\n",
    "        [ 291,  455, 1633, 3378, 2250],\n",
    "        [ 346,  228,  482, 1621, 5333]])"
   ]
  },
  {
   "cell_type": "code",
   "execution_count": 25,
   "metadata": {},
   "outputs": [],
   "source": [
    "def multiNB(pandas_df, text_column='reviewText', max_features = 1500, max_iter = 2000):\n",
    "\n",
    "    X = pandas_df[text_column]\n",
    "    y = pandas_df['overall']\n",
    "    X_train, X_test, y_train, y_test = train_test_split(X, y, test_size=0.2, random_state=1)\n",
    "\n",
    "    tvectorizer = CountVectorizer(max_features = max_features, strip_accents='ascii', token_pattern=r'(?u)\\b\\w\\w+\\b',lowercase=True)\n",
    "    X_train_tvectorizer = tvectorizer.fit_transform(X_train)\n",
    "    X_test_tvectorizer = tvectorizer.transform(X_test)\n",
    "\n",
    "\n",
    "    mnb = MultinomialNB()\n",
    "    mnb.fit(X_train_tvectorizer, y_train)\n",
    "    predict = mnb.predict(X_test_tvectorizer)\n",
    "\n",
    "    a = (accuracy_score(y_test, predict))\n",
    "    p = (precision_score(y_test, predict, average=None))\n",
    "    r = (recall_score(y_test, predict, average=None))\n",
    "\n",
    "    cm = confusion_matrix(y_test, predict)\n",
    "    \n",
    "    return (a,p,r), cm, mnb"
   ]
  },
  {
   "cell_type": "code",
   "execution_count": 14,
   "metadata": {},
   "outputs": [],
   "source": [
    "def rf_test(pandas_df, text_column = 'reviewText', n_est=10, max_depth = 40, max_feat=None):\n",
    "\n",
    "    X = pandas_df[text_column]\n",
    "    y = pandas_df['stars']\n",
    "    X_train, X_test, y_train, y_test = train_test_split(X, y, test_size=0.2, random_state=2)\n",
    "\n",
    "    tvectorizer = TfidfVectorizer(max_features = max_feat, strip_accents='ascii', token_pattern=r'(?u)\\b\\w\\w+\\b', stop_words=stopwords.words('english'))\n",
    "    X_train_tvectorizer = tvectorizer.fit_transform(X_train)\n",
    "    X_test_tvectorizer = tvectorizer.transform(X_test)\n",
    "    \n",
    "    rf = RandomForestClassifier(n_estimators = n_est, max_depth = max_depth, class_weight='balanced_subsample')\n",
    "    rf.fit(X_train_tvectorizer, y_train)\n",
    "    predict = rf.predict(X_test_tvectorizer)\n",
    "\n",
    "    a = (accuracy_score(y_test, predict))\n",
    "    p = (precision_score(y_test, predict, average='micro'))\n",
    "    r = (recall_score(y_test, predict, average='micro'))\n",
    "\n",
    "    cm = confusion_matrix(y_test, predict)\n",
    "    return (a,p,r), cm, rf\n"
   ]
  },
  {
   "cell_type": "code",
   "execution_count": 15,
   "metadata": {},
   "outputs": [],
   "source": [
    "def knn_classifier(pandas_df, text_column = 'reviewText'):\n",
    "    \n",
    "    X = pandas_df[text_column]\n",
    "    y = pandas_df['stars']\n",
    "    X_train, X_test, y_train, y_test = train_test_split(X, y, test_size=0.2, random_state=2)\n",
    "    \n",
    "    tvectorizer = TfidfVectorizer(token_pattern=r'(?u)\\b\\w\\w+\\b', stop_words=stopwords.words('english'))\n",
    "    X_train_tvectorizer = tvectorizer.fit_transform(X_train)\n",
    "    X_test_tvectorizer = tvectorizer.transform(X_test)\n",
    "    \n",
    "    knn = KNeighborsClassifier(n_neighbors = 2).fit(X_train_tvectorizer, y_train)\n",
    "    accuracy = knn.score(X_test_tvectorizer, y_test)\n",
    "    \n",
    "    knn_predictions = knn.predict(X_test_tvectorizer) \n",
    "    cm = confusion_matrix(y_test, knn_predictions)\n",
    "    \n",
    "    return accuracy, cm"
   ]
  },
  {
   "cell_type": "code",
   "execution_count": 30,
   "metadata": {},
   "outputs": [],
   "source": [
    "def logreg(pandas_df, text_column = 'reviewText', max_features=1500, max_iter=2000):\n",
    "\n",
    "    X = pandas_df[text_column]\n",
    "    y = pandas_df['stars']\n",
    "    X_train, X_test, y_train, y_test = train_test_split(X, y, test_size=0.2, random_state=2)\n",
    "    \n",
    "    tvectorizer = TfidfVectorizer(max_features = max_features, strip_accents='ascii', token_pattern=r'(?u)\\b\\w\\w+\\b')\n",
    "    X_train_tvectorizer = tvectorizer.fit_transform(X_train)\n",
    "    X_test_tvectorizer = tvectorizer.transform(X_test)\n",
    "\n",
    "    lr = LogisticRegression(max_iter=max_iter)\n",
    "    lr.fit(X_train_tvectorizer, y_train)\n",
    "    predict = lr.predict(X_test_tvectorizer)\n",
    "\n",
    "    a = (accuracy_score(y_test, predict))\n",
    "    p = (precision_score(y_test, predict, average=None))\n",
    "    r = (recall_score(y_test, predict, average=None))\n",
    "    cm = confusion_matrix(y_test, predict)\n",
    "    return ((a,p,r),cm,lr)"
   ]
  },
  {
   "cell_type": "code",
   "execution_count": 32,
   "metadata": {},
   "outputs": [],
   "source": [
    "def make_heatmap(cm):\n",
    "    categories = ['One', 'Two', 'Three', 'Four', 'Five']\n",
    "    \n",
    "    return sns.heatmap(cm, annot=True, fmt='g', categories=categories)"
   ]
  },
  {
   "cell_type": "code",
   "execution_count": null,
   "metadata": {},
   "outputs": [],
   "source": []
  }
 ],
 "metadata": {
  "kernelspec": {
   "display_name": "Python 3",
   "language": "python",
   "name": "python3"
  },
  "language_info": {
   "codemirror_mode": {
    "name": "ipython",
    "version": 3
   },
   "file_extension": ".py",
   "mimetype": "text/x-python",
   "name": "python",
   "nbconvert_exporter": "python",
   "pygments_lexer": "ipython3",
   "version": "3.7.9"
  }
 },
 "nbformat": 4,
 "nbformat_minor": 4
}
